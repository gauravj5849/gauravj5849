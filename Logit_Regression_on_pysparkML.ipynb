{
  "nbformat": 4,
  "nbformat_minor": 0,
  "metadata": {
    "colab": {
      "name": "Logit_Regression_on_pysparkML.ipynb",
      "provenance": [],
      "include_colab_link": true
    },
    "kernelspec": {
      "name": "python3",
      "display_name": "Python 3"
    },
    "language_info": {
      "name": "python"
    }
  },
  "cells": [
    {
      "cell_type": "markdown",
      "metadata": {
        "id": "view-in-github",
        "colab_type": "text"
      },
      "source": [
        "<a href=\"https://colab.research.google.com/github/gauravj5849/gauravj5849/blob/main/Logit_Regression_on_pysparkML.ipynb\" target=\"_parent\"><img src=\"https://colab.research.google.com/assets/colab-badge.svg\" alt=\"Open In Colab\"/></a>"
      ]
    },
    {
      "cell_type": "code",
      "metadata": {
        "colab": {
          "base_uri": "https://localhost:8080/"
        },
        "id": "JmS7FfEAi08U",
        "outputId": "8cc6e4c7-d323-43c8-8f17-226e0147f9aa"
      },
      "source": [
        "!pip install pyarrow==0.15.1"
      ],
      "execution_count": 1,
      "outputs": [
        {
          "output_type": "stream",
          "name": "stdout",
          "text": [
            "Collecting pyarrow==0.15.1\n",
            "  Downloading pyarrow-0.15.1-cp37-cp37m-manylinux2010_x86_64.whl (59.2 MB)\n",
            "\u001b[K     |████████████████████████████████| 59.2 MB 1.2 MB/s \n",
            "\u001b[?25hRequirement already satisfied: six>=1.0.0 in /usr/local/lib/python3.7/dist-packages (from pyarrow==0.15.1) (1.15.0)\n",
            "Requirement already satisfied: numpy>=1.14 in /usr/local/lib/python3.7/dist-packages (from pyarrow==0.15.1) (1.21.6)\n",
            "Installing collected packages: pyarrow\n",
            "  Attempting uninstall: pyarrow\n",
            "    Found existing installation: pyarrow 6.0.1\n",
            "    Uninstalling pyarrow-6.0.1:\n",
            "      Successfully uninstalled pyarrow-6.0.1\n",
            "Successfully installed pyarrow-0.15.1\n"
          ]
        }
      ]
    },
    {
      "cell_type": "markdown",
      "source": [
        "# New Section"
      ],
      "metadata": {
        "id": "55vqpnP0iZQ6"
      }
    },
    {
      "cell_type": "code",
      "metadata": {
        "id": "Gj3XhV0GkQtF"
      },
      "source": [
        "!apt-get install openjdk-8-jdk-headless -qq > /dev/null\n",
        "!wget -q https://downloads.apache.org/spark/spark-3.0.3/spark-3.0.3-bin-hadoop3.2.tgz\n",
        "!tar xf spark-3.0.3-bin-hadoop3.2.tgz\n",
        "!pip install -q findspark"
      ],
      "execution_count": 2,
      "outputs": []
    },
    {
      "cell_type": "code",
      "metadata": {
        "colab": {
          "base_uri": "https://localhost:8080/"
        },
        "id": "xQVCL19dkSlJ",
        "outputId": "c852cb87-4f90-4ff6-dfde-3d9da227cb63"
      },
      "source": [
        "!ls /usr/lib/jvm/"
      ],
      "execution_count": 3,
      "outputs": [
        {
          "output_type": "stream",
          "name": "stdout",
          "text": [
            "default-java\t\t   java-11-openjdk-amd64     java-8-openjdk-amd64\n",
            "java-1.11.0-openjdk-amd64  java-1.8.0-openjdk-amd64\n"
          ]
        }
      ]
    },
    {
      "cell_type": "code",
      "metadata": {
        "id": "CCI30ADmkVMh"
      },
      "source": [
        "import os\n",
        "os.environ[\"JAVA_HOME\"] = \"/usr/lib/jvm/java-8-openjdk-amd64\"\n",
        "os.environ[\"SPARK_HOME\"] = \"/content/spark-3.0.3-bin-hadoop3.2\""
      ],
      "execution_count": 4,
      "outputs": []
    },
    {
      "cell_type": "code",
      "metadata": {
        "id": "ybkXL9GFkXt6"
      },
      "source": [
        "import findspark\n",
        "findspark.init()\n",
        "from pyspark.sql import SparkSession\n",
        "spark = SparkSession.builder.master(\"local[*]\").getOrCreate()"
      ],
      "execution_count": 5,
      "outputs": []
    },
    {
      "cell_type": "code",
      "metadata": {
        "id": "mtJFbG3SkaBC"
      },
      "source": [
        "import sys\n",
        "from pyspark.sql.functions import *"
      ],
      "execution_count": 6,
      "outputs": []
    },
    {
      "cell_type": "code",
      "metadata": {
        "id": "dweoJlc2kcv5"
      },
      "source": [
        "df=spark.read.csv(\"/content/diabetes.csv\",header=True)"
      ],
      "execution_count": 7,
      "outputs": []
    },
    {
      "cell_type": "code",
      "metadata": {
        "colab": {
          "base_uri": "https://localhost:8080/"
        },
        "id": "lgk1fagglRBf",
        "outputId": "d2c881c8-ef48-4257-cba6-01cc7c59dbd1"
      },
      "source": [
        "df.show()"
      ],
      "execution_count": 8,
      "outputs": [
        {
          "output_type": "stream",
          "name": "stdout",
          "text": [
            "+-----------+-------+-------------+-------------+-------+----+------------------------+---+-------+\n",
            "|Pregnancies|Glucose|BloodPressure|SkinThickness|Insulin| BMI|DiabetesPedigreeFunction|Age|Outcome|\n",
            "+-----------+-------+-------------+-------------+-------+----+------------------------+---+-------+\n",
            "|          6|    148|           72|           35|      0|33.6|                   0.627| 50|      1|\n",
            "|          1|     85|           66|           29|      0|26.6|                   0.351| 31|      0|\n",
            "|          8|    183|           64|            0|      0|23.3|                   0.672| 32|      1|\n",
            "|          1|     89|           66|           23|     94|28.1|                   0.167| 21|      0|\n",
            "|          0|    137|           40|           35|    168|43.1|                   2.288| 33|      1|\n",
            "|          5|    116|           74|            0|      0|25.6|                   0.201| 30|      0|\n",
            "|          3|     78|           50|           32|     88|  31|                   0.248| 26|      1|\n",
            "|         10|    115|            0|            0|      0|35.3|                   0.134| 29|      0|\n",
            "|          2|    197|           70|           45|    543|30.5|                   0.158| 53|      1|\n",
            "|          8|    125|           96|            0|      0|   0|                   0.232| 54|      1|\n",
            "|          4|    110|           92|            0|      0|37.6|                   0.191| 30|      0|\n",
            "|         10|    168|           74|            0|      0|  38|                   0.537| 34|      1|\n",
            "|         10|    139|           80|            0|      0|27.1|                   1.441| 57|      0|\n",
            "|          1|    189|           60|           23|    846|30.1|                   0.398| 59|      1|\n",
            "|          5|    166|           72|           19|    175|25.8|                   0.587| 51|      1|\n",
            "|          7|    100|            0|            0|      0|  30|                   0.484| 32|      1|\n",
            "|          0|    118|           84|           47|    230|45.8|                   0.551| 31|      1|\n",
            "|          7|    107|           74|            0|      0|29.6|                   0.254| 31|      1|\n",
            "|          1|    103|           30|           38|     83|43.3|                   0.183| 33|      0|\n",
            "|          1|    115|           70|           30|     96|34.6|                   0.529| 32|      1|\n",
            "+-----------+-------+-------------+-------------+-------+----+------------------------+---+-------+\n",
            "only showing top 20 rows\n",
            "\n"
          ]
        }
      ]
    },
    {
      "cell_type": "code",
      "metadata": {
        "colab": {
          "base_uri": "https://localhost:8080/"
        },
        "id": "P1vMyoV5lUAb",
        "outputId": "866c46b8-a765-4be8-8a96-8513bb71cc99"
      },
      "source": [
        "df.printSchema()"
      ],
      "execution_count": 9,
      "outputs": [
        {
          "output_type": "stream",
          "name": "stdout",
          "text": [
            "root\n",
            " |-- Pregnancies: string (nullable = true)\n",
            " |-- Glucose: string (nullable = true)\n",
            " |-- BloodPressure: string (nullable = true)\n",
            " |-- SkinThickness: string (nullable = true)\n",
            " |-- Insulin: string (nullable = true)\n",
            " |-- BMI: string (nullable = true)\n",
            " |-- DiabetesPedigreeFunction: string (nullable = true)\n",
            " |-- Age: string (nullable = true)\n",
            " |-- Outcome: string (nullable = true)\n",
            "\n"
          ]
        }
      ]
    },
    {
      "cell_type": "code",
      "metadata": {
        "id": "BnrFoIcVlbmK"
      },
      "source": [
        "from pyspark.sql.functions import col"
      ],
      "execution_count": 10,
      "outputs": []
    },
    {
      "cell_type": "code",
      "metadata": {
        "id": "RT69TD9OlvMn"
      },
      "source": [
        "ndf=df.select(*(col(c).cast(\"float\").alias(c) for c in df.columns))"
      ],
      "execution_count": 11,
      "outputs": []
    },
    {
      "cell_type": "code",
      "metadata": {
        "colab": {
          "base_uri": "https://localhost:8080/"
        },
        "id": "2EzFT6gMmCNS",
        "outputId": "61cb1a24-087b-4b64-ad91-d99bdba94489"
      },
      "source": [
        "ndf.printSchema()"
      ],
      "execution_count": 12,
      "outputs": [
        {
          "output_type": "stream",
          "name": "stdout",
          "text": [
            "root\n",
            " |-- Pregnancies: float (nullable = true)\n",
            " |-- Glucose: float (nullable = true)\n",
            " |-- BloodPressure: float (nullable = true)\n",
            " |-- SkinThickness: float (nullable = true)\n",
            " |-- Insulin: float (nullable = true)\n",
            " |-- BMI: float (nullable = true)\n",
            " |-- DiabetesPedigreeFunction: float (nullable = true)\n",
            " |-- Age: float (nullable = true)\n",
            " |-- Outcome: float (nullable = true)\n",
            "\n"
          ]
        }
      ]
    },
    {
      "cell_type": "code",
      "metadata": {
        "colab": {
          "base_uri": "https://localhost:8080/"
        },
        "id": "Zk9L6FdnmHs6",
        "outputId": "5bbe4651-4561-47cf-e9c5-79ee7c7fe3b5"
      },
      "source": [
        "from pyspark.sql.functions import col, count, isnan, when\n",
        "#checking for null ir nan type values in our columns\n",
        "ndf.select([count(when(col(c).isNull(), c)).alias(c) for c in ndf.columns]).show()"
      ],
      "execution_count": 13,
      "outputs": [
        {
          "output_type": "stream",
          "name": "stdout",
          "text": [
            "+-----------+-------+-------------+-------------+-------+---+------------------------+---+-------+\n",
            "|Pregnancies|Glucose|BloodPressure|SkinThickness|Insulin|BMI|DiabetesPedigreeFunction|Age|Outcome|\n",
            "+-----------+-------+-------------+-------------+-------+---+------------------------+---+-------+\n",
            "|          0|      0|            0|            0|      0|  0|                       0|  0|      0|\n",
            "+-----------+-------+-------------+-------------+-------+---+------------------------+---+-------+\n",
            "\n"
          ]
        }
      ]
    },
    {
      "cell_type": "code",
      "metadata": {
        "id": "hPRqlZ_-mT-7"
      },
      "source": [
        "from pyspark.ml.feature import VectorAssembler"
      ],
      "execution_count": 14,
      "outputs": []
    },
    {
      "cell_type": "code",
      "metadata": {
        "id": "e_R9rjEmmfza"
      },
      "source": [
        "cols=ndf.columns"
      ],
      "execution_count": 15,
      "outputs": []
    },
    {
      "cell_type": "code",
      "metadata": {
        "id": "1QvnsQMlmqKS"
      },
      "source": [
        "cols.remove(\"Outcome\")"
      ],
      "execution_count": 16,
      "outputs": []
    },
    {
      "cell_type": "code",
      "metadata": {
        "colab": {
          "base_uri": "https://localhost:8080/"
        },
        "id": "IfKFybk7nUOT",
        "outputId": "6cc0d509-f4e7-42e2-df67-97f2eb00fc41"
      },
      "source": [
        "cols"
      ],
      "execution_count": 17,
      "outputs": [
        {
          "output_type": "execute_result",
          "data": {
            "text/plain": [
              "['Pregnancies',\n",
              " 'Glucose',\n",
              " 'BloodPressure',\n",
              " 'SkinThickness',\n",
              " 'Insulin',\n",
              " 'BMI',\n",
              " 'DiabetesPedigreeFunction',\n",
              " 'Age']"
            ]
          },
          "metadata": {},
          "execution_count": 17
        }
      ]
    },
    {
      "cell_type": "code",
      "metadata": {
        "id": "pfVhg7aInIW-"
      },
      "source": [
        "assembler=VectorAssembler(inputCols=cols,outputCol=\"features\")"
      ],
      "execution_count": null,
      "outputs": []
    },
    {
      "cell_type": "code",
      "metadata": {
        "id": "4jS3qjRQnfNl"
      },
      "source": [
        "data=assembler.transform(ndf)"
      ],
      "execution_count": null,
      "outputs": []
    },
    {
      "cell_type": "code",
      "metadata": {
        "colab": {
          "base_uri": "https://localhost:8080/"
        },
        "id": "F6uZbtWDn2ej",
        "outputId": "4bf51f7f-16c5-4261-f53e-41b7b933d947"
      },
      "source": [
        "data.select(\"features\",\"Outcome\").show(truncate=False)"
      ],
      "execution_count": null,
      "outputs": [
        {
          "output_type": "stream",
          "text": [
            "+-----------------------------------------------------------------------+-------+\n",
            "|features                                                               |Outcome|\n",
            "+-----------------------------------------------------------------------+-------+\n",
            "|[6.0,148.0,72.0,35.0,0.0,33.599998474121094,0.6269999742507935,50.0]   |1.0    |\n",
            "|[1.0,85.0,66.0,29.0,0.0,26.600000381469727,0.35100001096725464,31.0]   |0.0    |\n",
            "|[8.0,183.0,64.0,0.0,0.0,23.299999237060547,0.671999990940094,32.0]     |1.0    |\n",
            "|[1.0,89.0,66.0,23.0,94.0,28.100000381469727,0.16699999570846558,21.0]  |0.0    |\n",
            "|[0.0,137.0,40.0,35.0,168.0,43.099998474121094,2.2880001068115234,33.0] |1.0    |\n",
            "|[5.0,116.0,74.0,0.0,0.0,25.600000381469727,0.20100000500679016,30.0]   |0.0    |\n",
            "|[3.0,78.0,50.0,32.0,88.0,31.0,0.24799999594688416,26.0]                |1.0    |\n",
            "|[10.0,115.0,0.0,0.0,0.0,35.29999923706055,0.1340000033378601,29.0]     |0.0    |\n",
            "|[2.0,197.0,70.0,45.0,543.0,30.5,0.15800000727176666,53.0]              |1.0    |\n",
            "|[8.0,125.0,96.0,0.0,0.0,0.0,0.23199999332427979,54.0]                  |1.0    |\n",
            "|[4.0,110.0,92.0,0.0,0.0,37.599998474121094,0.19099999964237213,30.0]   |0.0    |\n",
            "|[10.0,168.0,74.0,0.0,0.0,38.0,0.5370000004768372,34.0]                 |1.0    |\n",
            "|[10.0,139.0,80.0,0.0,0.0,27.100000381469727,1.440999984741211,57.0]    |0.0    |\n",
            "|[1.0,189.0,60.0,23.0,846.0,30.100000381469727,0.39800000190734863,59.0]|1.0    |\n",
            "|[5.0,166.0,72.0,19.0,175.0,25.799999237060547,0.5870000123977661,51.0] |1.0    |\n",
            "|[7.0,100.0,0.0,0.0,0.0,30.0,0.48399999737739563,32.0]                  |1.0    |\n",
            "|[0.0,118.0,84.0,47.0,230.0,45.79999923706055,0.5509999990463257,31.0]  |1.0    |\n",
            "|[7.0,107.0,74.0,0.0,0.0,29.600000381469727,0.2540000081062317,31.0]    |1.0    |\n",
            "|[1.0,103.0,30.0,38.0,83.0,43.29999923706055,0.18299999833106995,33.0]  |0.0    |\n",
            "|[1.0,115.0,70.0,30.0,96.0,34.599998474121094,0.5289999842643738,32.0]  |1.0    |\n",
            "+-----------------------------------------------------------------------+-------+\n",
            "only showing top 20 rows\n",
            "\n"
          ],
          "name": "stdout"
        }
      ]
    },
    {
      "cell_type": "code",
      "metadata": {
        "id": "ZKZWtmYyn3Yy"
      },
      "source": [
        "from pyspark.ml.feature import StandardScaler"
      ],
      "execution_count": null,
      "outputs": []
    },
    {
      "cell_type": "code",
      "metadata": {
        "id": "YQI5el9yocOT"
      },
      "source": [
        "stdscaler=StandardScaler().setInputCol(\"features\").setOutputCol(\"Scaled_feat\")"
      ],
      "execution_count": null,
      "outputs": []
    },
    {
      "cell_type": "code",
      "metadata": {
        "id": "iZG3UHEBo5HK"
      },
      "source": [
        "data=stdscaler.fit(data).transform(data)"
      ],
      "execution_count": null,
      "outputs": []
    },
    {
      "cell_type": "code",
      "metadata": {
        "colab": {
          "base_uri": "https://localhost:8080/"
        },
        "id": "fm-FGpsupJmC",
        "outputId": "3e12460c-22de-4159-d806-d22a00f0ec69"
      },
      "source": [
        "data.show()"
      ],
      "execution_count": null,
      "outputs": [
        {
          "output_type": "stream",
          "text": [
            "+-----------+-------+-------------+-------------+-------+----+------------------------+----+-------+--------------------+--------------------+\n",
            "|Pregnancies|Glucose|BloodPressure|SkinThickness|Insulin| BMI|DiabetesPedigreeFunction| Age|Outcome|            features|         Scaled_feat|\n",
            "+-----------+-------+-------------+-------------+-------+----+------------------------+----+-------+--------------------+--------------------+\n",
            "|        6.0|  148.0|         72.0|         35.0|    0.0|33.6|                   0.627|50.0|    1.0|[6.0,148.0,72.0,3...|[1.78063837321943...|\n",
            "|        1.0|   85.0|         66.0|         29.0|    0.0|26.6|                   0.351|31.0|    0.0|[1.0,85.0,66.0,29...|[0.29677306220323...|\n",
            "|        8.0|  183.0|         64.0|          0.0|    0.0|23.3|                   0.672|32.0|    1.0|[8.0,183.0,64.0,0...|[2.37418449762590...|\n",
            "|        1.0|   89.0|         66.0|         23.0|   94.0|28.1|                   0.167|21.0|    0.0|[1.0,89.0,66.0,23...|[0.29677306220323...|\n",
            "|        0.0|  137.0|         40.0|         35.0|  168.0|43.1|                   2.288|33.0|    1.0|[0.0,137.0,40.0,3...|[0.0,4.2849165233...|\n",
            "|        5.0|  116.0|         74.0|          0.0|    0.0|25.6|                   0.201|30.0|    0.0|[5.0,116.0,74.0,0...|[1.48386531101619...|\n",
            "|        3.0|   78.0|         50.0|         32.0|   88.0|31.0|                   0.248|26.0|    1.0|[3.0,78.0,50.0,32...|[0.89031918660971...|\n",
            "|       10.0|  115.0|          0.0|          0.0|    0.0|35.3|                   0.134|29.0|    0.0|[10.0,115.0,0.0,0...|[2.96773062203238...|\n",
            "|        2.0|  197.0|         70.0|         45.0|  543.0|30.5|                   0.158|53.0|    1.0|[2.0,197.0,70.0,4...|[0.59354612440647...|\n",
            "|        8.0|  125.0|         96.0|          0.0|    0.0| 0.0|                   0.232|54.0|    1.0|[8.0,125.0,96.0,0...|[2.37418449762590...|\n",
            "|        4.0|  110.0|         92.0|          0.0|    0.0|37.6|                   0.191|30.0|    0.0|[4.0,110.0,92.0,0...|[1.18709224881295...|\n",
            "|       10.0|  168.0|         74.0|          0.0|    0.0|38.0|                   0.537|34.0|    1.0|[10.0,168.0,74.0,...|[2.96773062203238...|\n",
            "|       10.0|  139.0|         80.0|          0.0|    0.0|27.1|                   1.441|57.0|    0.0|[10.0,139.0,80.0,...|[2.96773062203238...|\n",
            "|        1.0|  189.0|         60.0|         23.0|  846.0|30.1|                   0.398|59.0|    1.0|[1.0,189.0,60.0,2...|[0.29677306220323...|\n",
            "|        5.0|  166.0|         72.0|         19.0|  175.0|25.8|                   0.587|51.0|    1.0|[5.0,166.0,72.0,1...|[1.48386531101619...|\n",
            "|        7.0|  100.0|          0.0|          0.0|    0.0|30.0|                   0.484|32.0|    1.0|[7.0,100.0,0.0,0....|[2.07741143542266...|\n",
            "|        0.0|  118.0|         84.0|         47.0|  230.0|45.8|                   0.551|31.0|    1.0|[0.0,118.0,84.0,4...|[0.0,3.6906580274...|\n",
            "|        7.0|  107.0|         74.0|          0.0|    0.0|29.6|                   0.254|31.0|    1.0|[7.0,107.0,74.0,0...|[2.07741143542266...|\n",
            "|        1.0|  103.0|         30.0|         38.0|   83.0|43.3|                   0.183|33.0|    0.0|[1.0,103.0,30.0,3...|[0.29677306220323...|\n",
            "|        1.0|  115.0|         70.0|         30.0|   96.0|34.6|                   0.529|32.0|    1.0|[1.0,115.0,70.0,3...|[0.29677306220323...|\n",
            "+-----------+-------+-------------+-------------+-------+----+------------------------+----+-------+--------------------+--------------------+\n",
            "only showing top 20 rows\n",
            "\n"
          ],
          "name": "stdout"
        }
      ]
    },
    {
      "cell_type": "code",
      "metadata": {
        "id": "bkqrD_AypS7K"
      },
      "source": [
        "finaldf=data.select(\"Scaled_feat\",\"Outcome\")"
      ],
      "execution_count": null,
      "outputs": []
    },
    {
      "cell_type": "code",
      "metadata": {
        "colab": {
          "base_uri": "https://localhost:8080/"
        },
        "id": "cKtUMHnLpm2j",
        "outputId": "bc479217-e012-4f59-f57c-b2ae0000a297"
      },
      "source": [
        "finaldf.show()"
      ],
      "execution_count": null,
      "outputs": [
        {
          "output_type": "stream",
          "text": [
            "+--------------------+-------+\n",
            "|         Scaled_feat|Outcome|\n",
            "+--------------------+-------+\n",
            "|[1.78063837321943...|    1.0|\n",
            "|[0.29677306220323...|    0.0|\n",
            "|[2.37418449762590...|    1.0|\n",
            "|[0.29677306220323...|    0.0|\n",
            "|[0.0,4.2849165233...|    1.0|\n",
            "|[1.48386531101619...|    0.0|\n",
            "|[0.89031918660971...|    1.0|\n",
            "|[2.96773062203238...|    0.0|\n",
            "|[0.59354612440647...|    1.0|\n",
            "|[2.37418449762590...|    1.0|\n",
            "|[1.18709224881295...|    0.0|\n",
            "|[2.96773062203238...|    1.0|\n",
            "|[2.96773062203238...|    0.0|\n",
            "|[0.29677306220323...|    1.0|\n",
            "|[1.48386531101619...|    1.0|\n",
            "|[2.07741143542266...|    1.0|\n",
            "|[0.0,3.6906580274...|    1.0|\n",
            "|[2.07741143542266...|    1.0|\n",
            "|[0.29677306220323...|    0.0|\n",
            "|[0.29677306220323...|    1.0|\n",
            "+--------------------+-------+\n",
            "only showing top 20 rows\n",
            "\n"
          ],
          "name": "stdout"
        }
      ]
    },
    {
      "cell_type": "code",
      "metadata": {
        "id": "kbHwISh-plsr"
      },
      "source": [
        "train,test=finaldf.randomSplit([0.7,0.3])"
      ],
      "execution_count": null,
      "outputs": []
    },
    {
      "cell_type": "code",
      "metadata": {
        "id": "7PvR8BnNp3_7"
      },
      "source": [
        "from pyspark.ml.classification import LogisticRegression"
      ],
      "execution_count": null,
      "outputs": []
    },
    {
      "cell_type": "code",
      "metadata": {
        "id": "nILEPEy9qD1R"
      },
      "source": [
        "log_reg=LogisticRegression(labelCol=\"Outcome\",featuresCol=\"Scaled_feat\")"
      ],
      "execution_count": null,
      "outputs": []
    },
    {
      "cell_type": "code",
      "metadata": {
        "id": "e9Zte1kjqQd6"
      },
      "source": [
        "model=log_reg.fit(train)"
      ],
      "execution_count": null,
      "outputs": []
    },
    {
      "cell_type": "code",
      "metadata": {
        "id": "TeSoCuqoqY9a"
      },
      "source": [
        "pred_test=model.transform(test)"
      ],
      "execution_count": null,
      "outputs": []
    },
    {
      "cell_type": "code",
      "metadata": {
        "colab": {
          "base_uri": "https://localhost:8080/"
        },
        "id": "2oARWnVwqpqT",
        "outputId": "f6cf43c1-12d5-45a9-a866-6fc97f687508"
      },
      "source": [
        "pred_test.show()"
      ],
      "execution_count": null,
      "outputs": [
        {
          "output_type": "stream",
          "text": [
            "+--------------------+-------+--------------------+--------------------+----------+\n",
            "|         Scaled_feat|Outcome|       rawPrediction|         probability|prediction|\n",
            "+--------------------+-------+--------------------+--------------------+----------+\n",
            "|(8,[0,1,6,7],[2.0...|    0.0|[3.18200312425599...|[0.96015137768523...|       0.0|\n",
            "|(8,[1,5,6,7],[3.0...|    0.0|[1.87083943658427...|[0.86655537739739...|       0.0|\n",
            "|(8,[1,5,6,7],[3.6...|    0.0|[-0.2042223084098...|[0.44912113278908...|       1.0|\n",
            "|(8,[1,5,6,7],[3.7...|    1.0|[0.50621232955266...|[0.62391813721856...|       0.0|\n",
            "|(8,[1,5,6,7],[4.3...|    1.0|[-0.9440980391435...|[0.28007330151320...|       1.0|\n",
            "|[0.0,2.0955431172...|    0.0|[1.78682788819423...|[0.85653792585076...|       0.0|\n",
            "|[0.0,2.3144804578...|    0.0|[3.24263997244595...|[0.96240773795825...|       0.0|\n",
            "|[0.0,2.6272480873...|    0.0|[2.28645575072865...|[0.90774908081230...|       0.0|\n",
            "|[0.0,2.9087389538...|    0.0|[1.82385949349006...|[0.86102859150295...|       0.0|\n",
            "|[0.0,3.1276762944...|    0.0|[2.24357340386905...|[0.90409474669981...|       0.0|\n",
            "|[0.0,3.1589530573...|    0.0|[3.09919504329257...|[0.95685952916967...|       0.0|\n",
            "|[0.0,3.1589530573...|    0.0|[2.85388356945995...|[0.94551908259601...|       0.0|\n",
            "|[0.0,3.1589530573...|    0.0|[1.72068171118625...|[0.84821662421047...|       0.0|\n",
            "|[0.0,3.2527833462...|    1.0|[1.89594208816644...|[0.86943156035278...|       0.0|\n",
            "|[0.0,3.2527833462...|    0.0|[3.01362858572973...|[0.95318603710219...|       0.0|\n",
            "|[0.0,3.2840601091...|    0.0|[1.41078855736192...|[0.80389029003900...|       0.0|\n",
            "|[0.0,3.2840601091...|    0.0|[2.06840642172825...|[0.88779431430988...|       0.0|\n",
            "|[0.0,3.3153368721...|    0.0|[1.40183998682063...|[0.80247570434250...|       0.0|\n",
            "|[0.0,3.3466136350...|    0.0|[2.43035467724772...|[0.91911290496203...|       0.0|\n",
            "|[0.0,3.3466136350...|    0.0|[0.39374116225043...|[0.59718298260492...|       0.0|\n",
            "+--------------------+-------+--------------------+--------------------+----------+\n",
            "only showing top 20 rows\n",
            "\n"
          ],
          "name": "stdout"
        }
      ]
    },
    {
      "cell_type": "code",
      "metadata": {
        "id": "fGLRDs0cquEq"
      },
      "source": [
        "from pyspark.mllib.evaluation import BinaryClassificationMetrics"
      ],
      "execution_count": null,
      "outputs": []
    },
    {
      "cell_type": "code",
      "metadata": {
        "id": "tjldtL_Nq8oT"
      },
      "source": [
        "predictionAndLabels = pred_test.select(\"Outcome\",\"prediction\").rdd.map(lambda row: row[0:])"
      ],
      "execution_count": null,
      "outputs": []
    },
    {
      "cell_type": "code",
      "metadata": {
        "id": "_RZz6NiMrJuD"
      },
      "source": [
        "summary=BinaryClassificationMetrics(predictionAndLabels)"
      ],
      "execution_count": null,
      "outputs": []
    },
    {
      "cell_type": "code",
      "metadata": {
        "colab": {
          "base_uri": "https://localhost:8080/"
        },
        "id": "ZNLuIs2KrYGD",
        "outputId": "557e9139-7df4-4eb5-8f94-26456cc801b8"
      },
      "source": [
        "summary.areaUnderROC"
      ],
      "execution_count": null,
      "outputs": [
        {
          "output_type": "execute_result",
          "data": {
            "text/plain": [
              "0.7706023651145603"
            ]
          },
          "metadata": {
            "tags": []
          },
          "execution_count": 43
        }
      ]
    },
    {
      "cell_type": "code",
      "metadata": {
        "id": "PMB7mC-grbuK"
      },
      "source": [
        ""
      ],
      "execution_count": null,
      "outputs": []
    }
  ]
}